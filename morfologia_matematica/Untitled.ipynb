{
 "cells": [
  {
   "cell_type": "code",
   "execution_count": 82,
   "id": "8e50366f",
   "metadata": {},
   "outputs": [],
   "source": [
    "import numpy as np\n",
    "from numpy import array\n",
    "from PIL import Image\n",
    "from matplotlib import pyplot as plt"
   ]
  },
  {
   "cell_type": "code",
   "execution_count": 139,
   "id": "668a0b70",
   "metadata": {},
   "outputs": [],
   "source": [
    "#------------------ DILATACION -----------------------\n",
    "#imagen es tipo imagen y kernel es una matriz 2x2\n",
    "def dilatacion(imagen, ker, filas, columnas, dimensiones):\n",
    "    convolucion_r = np.empty((filas,columnas))\n",
    "    convolucion_g = np.empty((filas,columnas))\n",
    "    convolucion_b = np.empty((filas,columnas))\n",
    "\n",
    "    r, g, b = imagen.split() #separa la imagen en sus 3 colores rgb\n",
    "    \n",
    "    matriz_rojo = np.array(r)\n",
    "    matriz_verde = np.array(g)\n",
    "    matriz_azul = np.array(b)\n",
    "\n",
    "    for x in range(filas):\n",
    "        for y in range(columnas):\n",
    "            for x2 in range(3):\n",
    "                for y2 in range(3):\n",
    "                    if(x>1 and x<filas-1 and y>1 and y<columnas-1):\n",
    "                        convolucion_r[x,y] = convolucion_r[x,y] or (matriz_rojo[x,y] * ker[x2,y2] * ker[x2,y2])\n",
    "                        convolucion_g[x,y] = convolucion_g[x,y] or (matriz_verde[x,y] * ker[x2,y2] * ker[x2,y2])\n",
    "                        convolucion_b[x,y] = convolucion_b[x,y] or (matriz_azul[x,y] * ker[x2,y2] * ker[x2,y2])\n",
    "\n",
    "    dil = union_imagen(convolucion_r,convolucion_g,convolucion_b,filas,columnas,dimensiones)\n",
    "    \n",
    "    plt.imshow(dil)"
   ]
  },
  {
   "cell_type": "code",
   "execution_count": 85,
   "id": "3fdd08e9",
   "metadata": {},
   "outputs": [],
   "source": [
    "#------------------ EROSION -----------------------"
   ]
  },
  {
   "cell_type": "code",
   "execution_count": 110,
   "id": "7bb39328",
   "metadata": {},
   "outputs": [],
   "source": [
    "# se lee la imagen y se obtienen sus canales RGB junto \n",
    "# con sus respectivas matrices\n",
    "imagen = Image.open(\"cosa.jpg\")\n",
    "fondo = Image.open(\"fondo.jpg\")\n",
    "fondo_nuevo = Image.open(\"frutero.jpg\")\n",
    "\n",
    "ancho = 240\n",
    "alto = 240\n",
    "\n",
    "imagen = imagen.resize((ancho, alto))\n",
    "fondo = fondo.resize((ancho, alto))\n",
    "fondo_nuevo = fondo_nuevo.resize((ancho,alto))\n",
    "\n",
    "matriz_img = np.array(imagen)\n",
    "matriz_fnd = np.array(fondo)\n",
    "matriz_nuevo = np.array(fondo_nuevo)\n",
    "\n",
    "filas,columnas,dimensiones = matriz_img.shape # filas, columnas y dimensiones de la matriz\n",
    "\n",
    "r, g, b = imagen.split() #separa la imagen en sus 3 colores rgb\n",
    "r2, g2, b2 = fondo.split() #separa la imagen en sus 3 colores rgb\n",
    "\n",
    "diferencia = fondo\n",
    "\n",
    "#obtienen las matrices de cada color\n",
    "m_rojo_img = np.array(r)\n",
    "m_verde_img = np.array(g)\n",
    "m_azul_img = np.array(b)\n",
    "\n",
    "m_rojo_fnd = np.array(r2)\n",
    "m_verde_fnd = np.array(g2)\n",
    "m_azul_fnd = np.array(b2)\n",
    "    \n",
    "# se muestran las imagenes\n",
    "#plt.imshow(imagen)\n",
    "#plt.imshow(fondo)\n",
    "#plt.imshow(fondo_nuevo)\n"
   ]
  },
  {
   "cell_type": "code",
   "execution_count": 111,
   "id": "9a813233",
   "metadata": {},
   "outputs": [],
   "source": [
    "kernel = np.ones((3,3))\n",
    "\n",
    "\n",
    "#print(kernel)\n"
   ]
  },
  {
   "cell_type": "code",
   "execution_count": 112,
   "id": "b27df96e",
   "metadata": {},
   "outputs": [
    {
     "name": "stderr",
     "output_type": "stream",
     "text": [
      "C:\\Users\\chj06\\AppData\\Local\\Temp\\ipykernel_10524\\2078155878.py:6: RuntimeWarning: overflow encountered in ubyte_scalars\n",
      "  abs_g=abs(m_verde_fnd[y][x]-m_verde_img[y][x])\n",
      "C:\\Users\\chj06\\AppData\\Local\\Temp\\ipykernel_10524\\2078155878.py:7: RuntimeWarning: overflow encountered in ubyte_scalars\n",
      "  abs_b=abs(m_azul_fnd[y][x]-m_azul_img[y][x])\n",
      "C:\\Users\\chj06\\AppData\\Local\\Temp\\ipykernel_10524\\2078155878.py:5: RuntimeWarning: overflow encountered in ubyte_scalars\n",
      "  abs_r=abs(m_rojo_fnd[y][x]-m_rojo_img[y][x])\n"
     ]
    },
    {
     "data": {
      "image/png": "[encoded data removed]",
      "text/plain": [
       "<Figure size 640x480 with 1 Axes>"
      ]
     },
     "metadata": {},
     "output_type": "display_data"
    }
   ],
   "source": [
    "# ----------------------- VALOR ABSOLUTO --------------------\n",
    "#Se saca el absoluto\n",
    "for x in range (filas):\n",
    "    for y in range (columnas):\n",
    "        abs_r=abs(m_rojo_fnd[y][x]-m_rojo_img[y][x])\n",
    "        abs_g=abs(m_verde_fnd[y][x]-m_verde_img[y][x])\n",
    "        abs_b=abs(m_azul_fnd[y][x]-m_azul_img[y][x])\n",
    "        #Se le pasan a la imagen\n",
    "        diferencia.putpixel((x,y),(abs_r, abs_g, abs_b))\n",
    "\n",
    "\n",
    "#diferencia = union_imagen(d_rojo,d_verde,d_azul,filas,columnas,dimensiones)\n",
    "#matriz_dif = np.array(diferencia)\n",
    "\n",
    "# ------------------ CONVERISON A GRISES -------------------------\n",
    "gris = diferencia.convert(\"L\")\n",
    "matriz_gris = np.array(gris)\n",
    "\n",
    "# --------------------------- UMBRALIZACION --------------------------\n",
    "for x in range(ancho):\n",
    "    for y in range(alto):\n",
    "        if ar_t_g[y][x]<180:\n",
    "            diferencia.putpixel((x,y),(255,255,255))\n",
    "        else:\n",
    "            diferencia.putpixel((x,y),(0,0,0))\n",
    "        \n",
    "\n",
    "plt.imshow(diferencia)\n",
    "\n",
    "# ------------------ NEGACION -----------------------\n",
    "matriz_negada = ~np.array(diferencia)\n",
    "negada = Image.fromarray(notU)\n",
    "\n"
   ]
  },
  {
   "cell_type": "code",
   "execution_count": 113,
   "id": "9288ad95",
   "metadata": {},
   "outputs": [],
   "source": [
    "# ----------------- UNION CANALES RGB ------------------\n",
    "# une los canales rgb de las imagenes\n",
    "# r,g,b son matrices 2x2\n",
    "# filas,columnas,dimensiones son datos de tipo int\n",
    "def union_imagen(r,g,b,filas,columnas,dimensiones):\n",
    "    union = np.zeros((filas,columnas,dimensiones), dtype=np.uint8) # matriz que contiene la nueva imagen \n",
    "        \n",
    "    # Asigna valores a cada canal de color\n",
    "    union[:,:,0] = r  # valores de rojo\n",
    "    union[:,:,1] = g  # valores de verde\n",
    "    union[:,:,2] = b  # valores de azul\n",
    "\n",
    "    # Crea una imagen RGB desde la matriz tridimensional\n",
    "    imagen = Image.fromarray(union)\n",
    "\n",
    "    # Guarda la imagen en un archivo\n",
    "    #imagen.save(\"imagen.jpg\")\n",
    "    #print(\"Imagen lista\")\n",
    "    #plt.imshow(imagen)\n",
    "    \n",
    "    return imagen"
   ]
  },
  {
   "cell_type": "code",
   "execution_count": 122,
   "id": "5894ecaf",
   "metadata": {},
   "outputs": [],
   "source": [
    "# --------------------------- COMBINACION IMAGENES ----------------------\n",
    "r=(matriz_nuevo & notU)|(matriz_img & matriz_dif)\n",
    "final=Image.fromarray(r)\n",
    "final.show()"
   ]
  },
  {
   "cell_type": "code",
   "execution_count": 140,
   "id": "4bca129e",
   "metadata": {},
   "outputs": [
    {
     "data": {
      "image/png": "[encoded data removed]",
      "text/plain": [
       "<Figure size 640x480 with 1 Axes>"
      ]
     },
     "metadata": {},
     "output_type": "display_data"
    }
   ],
   "source": [
    "dilatacion(diferencia,kernel,filas,columnas,dimensiones)"
   ]
  },
  {
   "cell_type": "code",
   "execution_count": null,
   "id": "23a76ff6",
   "metadata": {},
   "outputs": [],
   "source": []
  }
 ],
 "metadata": {
  "kernelspec": {
   "display_name": "Python 3 (ipykernel)",
   "language": "python",
   "name": "python3"
  },
  "language_info": {
   "codemirror_mode": {
    "name": "ipython",
    "version": 3
   },
   "file_extension": ".py",
   "mimetype": "text/x-python",
   "name": "python",
   "nbconvert_exporter": "python",
   "pygments_lexer": "ipython3",
   "version": "3.9.13"
  }
 },
 "nbformat": 4,
 "nbformat_minor": 5
}
