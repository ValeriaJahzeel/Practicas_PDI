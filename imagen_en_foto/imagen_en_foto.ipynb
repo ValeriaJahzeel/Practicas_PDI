{
 "cells": [
  {
   "cell_type": "markdown",
   "id": "7fcb6808",
   "metadata": {},
   "source": [
    "# Imagen dentro de una foto"
   ]
  },
  {
   "cell_type": "markdown",
   "id": "d4747c7f",
   "metadata": {},
   "source": [
    "#### > Omar Flores Sanchez\n",
    "#### > Valeria Jahzeel Castañon Hernandez"
   ]
  },
  {
   "cell_type": "code",
   "execution_count": 67,
   "id": "d646e5e8",
   "metadata": {},
   "outputs": [],
   "source": [
    "from PIL import Image\n",
    "from numpy import array\n",
    "import numpy as np\n",
    "import math"
   ]
  },
  {
   "cell_type": "code",
   "execution_count": 68,
   "id": "23878b51",
   "metadata": {},
   "outputs": [],
   "source": [
    "#Se abre la imagen.\n",
    "foto=Image.open(\"cuadrado.jpeg\");\n",
    "#Se redimenciona pa mas facil.\n",
    "anchoHoja = 240\n",
    "altoHoja = 320\n",
    "foto=foto.resize((anchoHoja,altoHoja))\n",
    "#foto.show()"
   ]
  },
  {
   "cell_type": "code",
   "execution_count": 69,
   "id": "e31cb10f",
   "metadata": {},
   "outputs": [],
   "source": [
    "#Se abre una nueva imagen.\n",
    "vale=Image.open(\"pancito.png\")\n",
    "#Se redimenciona para que tenga un area similar a la hoja.\n",
    "anchoPan = 122\n",
    "altoPan = 122\n",
    "vale=vale.resize((anchoPan,altoPan))\n"
   ]
  },
  {
   "cell_type": "code",
   "execution_count": 70,
   "id": "00c38cad",
   "metadata": {},
   "outputs": [],
   "source": [
    "#Coordenadas de la hoja.\n",
    "h1 = 73,76\n",
    "h2 = 159,79\n",
    "h3 = 44,212\n",
    "h4 = 175,216\n",
    "\n",
    "#Coordenadas del pan.\n",
    "p1 = 0,0\n",
    "p2 = 122,0\n",
    "p3 = 0,122\n",
    "p4 = 122,122\n",
    "\n",
    "#print(foto.size)\n",
    "#print(vale.size)"
   ]
  },
  {
   "cell_type": "code",
   "execution_count": 71,
   "id": "ee543531",
   "metadata": {},
   "outputs": [],
   "source": [
    "#Se colocan marcadores en las esquinas de la hoja.\n",
    "for i in range (anchoHoja): \n",
    "    for j in range (altoHoja):\n",
    "        if i==h1[0] and j==h1[0]:\n",
    "            foto.putpixel((i,j),(255,0,0))\n",
    "        if i==h2[0] and j==h2[1]:\n",
    "            foto.putpixel((i,j),(255,0,0))\n",
    "        if i==h3[0] and j==h3[1]:\n",
    "            foto.putpixel((i,j),(255,0,0))\n",
    "        if i==h4[0] and j==h4[1]:\n",
    "            foto.putpixel((i,j),(255,0,0))\n",
    "#oto.show()"
   ]
  },
  {
   "cell_type": "code",
   "execution_count": 72,
   "id": "e610818f",
   "metadata": {},
   "outputs": [],
   "source": [
    "c33 = 1\n",
    "\n",
    "c11=int(1.080*c33)\n",
    "c12=int(-2.372*c33)\n",
    "c13=int(44*c33)\n",
    "c21=int(0.040*c33)\n",
    "c22=int(-2.75*c33)\n",
    "c23=int(212*c33)\n",
    "c31=int(0)\n",
    "c32=int(0.021*c33)\n",
    "\n",
    "cs = [[c11, c12, c13],\n",
    "      [c21, c22, c23],\n",
    "      [c31, c32, c33]]\n"
   ]
  },
  {
   "cell_type": "code",
   "execution_count": 73,
   "id": "b8c56651",
   "metadata": {},
   "outputs": [
    {
     "ename": "IndexError",
     "evalue": "image index out of range",
     "output_type": "error",
     "traceback": [
      "\u001b[1;31m---------------------------------------------------------------------------\u001b[0m",
      "\u001b[1;31mIndexError\u001b[0m                                Traceback (most recent call last)",
      "\u001b[1;32m~\\AppData\\Local\\Temp\\ipykernel_19944\\3595971506.py\u001b[0m in \u001b[0;36m<module>\u001b[1;34m\u001b[0m\n\u001b[0;32m     12\u001b[0m         \u001b[0myr\u001b[0m \u001b[1;33m=\u001b[0m \u001b[0mint\u001b[0m\u001b[1;33m(\u001b[0m\u001b[0mabs\u001b[0m\u001b[1;33m(\u001b[0m\u001b[0my2\u001b[0m \u001b[1;33m/\u001b[0m \u001b[0mz2\u001b[0m\u001b[1;33m)\u001b[0m\u001b[1;33m)\u001b[0m\u001b[1;33m\u001b[0m\u001b[1;33m\u001b[0m\u001b[0m\n\u001b[0;32m     13\u001b[0m \u001b[1;33m\u001b[0m\u001b[0m\n\u001b[1;32m---> 14\u001b[1;33m         \u001b[0mr\u001b[0m \u001b[1;33m=\u001b[0m \u001b[0mvale\u001b[0m\u001b[1;33m.\u001b[0m\u001b[0mgetpixel\u001b[0m\u001b[1;33m(\u001b[0m\u001b[1;33m(\u001b[0m\u001b[0mxr\u001b[0m\u001b[1;33m,\u001b[0m \u001b[0myr\u001b[0m\u001b[1;33m)\u001b[0m\u001b[1;33m)\u001b[0m\u001b[1;33m[\u001b[0m\u001b[1;36m0\u001b[0m\u001b[1;33m]\u001b[0m\u001b[1;33m\u001b[0m\u001b[1;33m\u001b[0m\u001b[0m\n\u001b[0m\u001b[0;32m     15\u001b[0m         \u001b[0mg\u001b[0m \u001b[1;33m=\u001b[0m \u001b[0mvale\u001b[0m\u001b[1;33m.\u001b[0m\u001b[0mgetpixel\u001b[0m\u001b[1;33m(\u001b[0m\u001b[1;33m(\u001b[0m\u001b[0mxr\u001b[0m\u001b[1;33m,\u001b[0m \u001b[0myr\u001b[0m\u001b[1;33m)\u001b[0m\u001b[1;33m)\u001b[0m\u001b[1;33m[\u001b[0m\u001b[1;36m1\u001b[0m\u001b[1;33m]\u001b[0m\u001b[1;33m\u001b[0m\u001b[1;33m\u001b[0m\u001b[0m\n\u001b[0;32m     16\u001b[0m         \u001b[0mb\u001b[0m \u001b[1;33m=\u001b[0m \u001b[0mvale\u001b[0m\u001b[1;33m.\u001b[0m\u001b[0mgetpixel\u001b[0m\u001b[1;33m(\u001b[0m\u001b[1;33m(\u001b[0m\u001b[0mxr\u001b[0m\u001b[1;33m,\u001b[0m \u001b[0myr\u001b[0m\u001b[1;33m)\u001b[0m\u001b[1;33m)\u001b[0m\u001b[1;33m[\u001b[0m\u001b[1;36m2\u001b[0m\u001b[1;33m]\u001b[0m\u001b[1;33m\u001b[0m\u001b[1;33m\u001b[0m\u001b[0m\n",
      "\u001b[1;32m~\\anaconda3\\lib\\site-packages\\PIL\\Image.py\u001b[0m in \u001b[0;36mgetpixel\u001b[1;34m(self, xy)\u001b[0m\n\u001b[0;32m   1479\u001b[0m         \u001b[1;32mif\u001b[0m \u001b[0mself\u001b[0m\u001b[1;33m.\u001b[0m\u001b[0mpyaccess\u001b[0m\u001b[1;33m:\u001b[0m\u001b[1;33m\u001b[0m\u001b[1;33m\u001b[0m\u001b[0m\n\u001b[0;32m   1480\u001b[0m             \u001b[1;32mreturn\u001b[0m \u001b[0mself\u001b[0m\u001b[1;33m.\u001b[0m\u001b[0mpyaccess\u001b[0m\u001b[1;33m.\u001b[0m\u001b[0mgetpixel\u001b[0m\u001b[1;33m(\u001b[0m\u001b[0mxy\u001b[0m\u001b[1;33m)\u001b[0m\u001b[1;33m\u001b[0m\u001b[1;33m\u001b[0m\u001b[0m\n\u001b[1;32m-> 1481\u001b[1;33m         \u001b[1;32mreturn\u001b[0m \u001b[0mself\u001b[0m\u001b[1;33m.\u001b[0m\u001b[0mim\u001b[0m\u001b[1;33m.\u001b[0m\u001b[0mgetpixel\u001b[0m\u001b[1;33m(\u001b[0m\u001b[0mxy\u001b[0m\u001b[1;33m)\u001b[0m\u001b[1;33m\u001b[0m\u001b[1;33m\u001b[0m\u001b[0m\n\u001b[0m\u001b[0;32m   1482\u001b[0m \u001b[1;33m\u001b[0m\u001b[0m\n\u001b[0;32m   1483\u001b[0m     \u001b[1;32mdef\u001b[0m \u001b[0mgetprojection\u001b[0m\u001b[1;33m(\u001b[0m\u001b[0mself\u001b[0m\u001b[1;33m)\u001b[0m\u001b[1;33m:\u001b[0m\u001b[1;33m\u001b[0m\u001b[1;33m\u001b[0m\u001b[0m\n",
      "\u001b[1;31mIndexError\u001b[0m: image index out of range"
     ]
    }
   ],
   "source": [
    "#Se hace una nueva foto\n",
    "fotoNueva = foto\n",
    "\n",
    "#Se asignan pixeles\n",
    "for x in range(anchoPan):\n",
    "    for y in range(altoPan):\n",
    "        x2 = (c11 * x + c12 * y + c13 * 1)\n",
    "        y2 = (c21 * x + c22 * y + c23 * 1)\n",
    "        z2 = (c31 * x + c32 * y + c33 * 1)\n",
    "        \n",
    "        xr = int(abs(x2 / z2))\n",
    "        yr = int(abs(y2 / z2))\n",
    "\n",
    "        r = vale.getpixel((xr, yr))[0]\n",
    "        g = vale.getpixel((xr, yr))[1]\n",
    "        b = vale.getpixel((xr, yr))[2]\n",
    "        \n",
    "        fotoNueva.putpixel((x, y), (r, g, b))\n",
    "        \n",
    "fotoNueva.show()\n"
   ]
  },
  {
   "cell_type": "code",
   "execution_count": 34,
   "id": "1885e7c5",
   "metadata": {},
   "outputs": [],
   "source": []
  },
  {
   "cell_type": "code",
   "execution_count": null,
   "id": "b920a797",
   "metadata": {},
   "outputs": [],
   "source": []
  },
  {
   "cell_type": "code",
   "execution_count": null,
   "id": "3b07b7ce",
   "metadata": {},
   "outputs": [],
   "source": []
  }
 ],
 "metadata": {
  "kernelspec": {
   "display_name": "Python 3 (ipykernel)",
   "language": "python",
   "name": "python3"
  },
  "language_info": {
   "codemirror_mode": {
    "name": "ipython",
    "version": 3
   },
   "file_extension": ".py",
   "mimetype": "text/x-python",
   "name": "python",
   "nbconvert_exporter": "python",
   "pygments_lexer": "ipython3",
   "version": "3.9.13"
  }
 },
 "nbformat": 4,
 "nbformat_minor": 5
}
